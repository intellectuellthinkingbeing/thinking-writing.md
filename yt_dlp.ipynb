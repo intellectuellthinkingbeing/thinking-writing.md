{
  "cells": [
    {
      "cell_type": "markdown",
      "metadata": {
        "id": "view-in-github",
        "colab_type": "text"
      },
      "source": [
        "<a href=\"https://colab.research.google.com/github/intellectuellthinkingbeing/thinking-writing.md/blob/main/yt_dlp.ipynb\" target=\"_parent\"><img src=\"https://colab.research.google.com/assets/colab-badge.svg\" alt=\"Open In Colab\"/></a>"
      ]
    },
    {
      "cell_type": "markdown",
      "metadata": {
        "id": "8blAaessrLlF"
      },
      "source": [
        "# yt-dlp Demonstration Notebook\n",
        "\n",
        "In this Jupyter notebook, we will explore the capabilities of yt-dlp, a powerful command-line tool that extends the functionality of YouTube-DL, allowing users to download videos from various online sources with additional features and options.\n",
        "\n",
        "See [here](https://github.com/yt-dlp/yt-dlp) for more information.\n",
        "\n",
        "In this notebook, we shall:\n",
        "\n",
        "1. Install yt-dlp.\n",
        "2. Showcase how to download videos from different sources.\n",
        "3. Demonstrate how to fetch subtitles.\n",
        "4. Discuss some other helpful commands.\n",
        "\n",
        "## 1. Installation"
      ]
    },
    {
      "cell_type": "code",
      "execution_count": null,
      "metadata": {
        "colab": {
          "base_uri": "https://localhost:8080/"
        },
        "id": "IB9PsH_mqs-J",
        "outputId": "ca71bbca-f9ec-47f0-91f0-bb4fbc48cf32"
      },
      "outputs": [
        {
          "output_type": "stream",
          "name": "stdout",
          "text": [
            "Collecting yt-dlp\n",
            "  Downloading yt_dlp-2025.3.31-py3-none-any.whl.metadata (172 kB)\n",
            "\u001b[?25l     \u001b[90m━━━━━━━━━━━━━━━━━━━━━━━━━━━━━━━━━━━━━━━━\u001b[0m \u001b[32m0.0/172.2 kB\u001b[0m \u001b[31m?\u001b[0m eta \u001b[36m-:--:--\u001b[0m\r\u001b[2K     \u001b[91m━━━━━━━━━━━━━━━━━━━━━━━━━━━━━━━━━━━━━\u001b[0m\u001b[90m╺\u001b[0m\u001b[90m━\u001b[0m \u001b[32m163.8/172.2 kB\u001b[0m \u001b[31m8.5 MB/s\u001b[0m eta \u001b[36m0:00:01\u001b[0m\r\u001b[2K     \u001b[90m━━━━━━━━━━━━━━━━━━━━━━━━━━━━━━━━━━━━━━━\u001b[0m \u001b[32m172.2/172.2 kB\u001b[0m \u001b[31m3.3 MB/s\u001b[0m eta \u001b[36m0:00:00\u001b[0m\n",
            "\u001b[?25hDownloading yt_dlp-2025.3.31-py3-none-any.whl (3.2 MB)\n",
            "\u001b[2K   \u001b[90m━━━━━━━━━━━━━━━━━━━━━━━━━━━━━━━━━━━━━━━━\u001b[0m \u001b[32m3.2/3.2 MB\u001b[0m \u001b[31m37.5 MB/s\u001b[0m eta \u001b[36m0:00:00\u001b[0m\n",
            "\u001b[?25hInstalling collected packages: yt-dlp\n",
            "Successfully installed yt-dlp-2025.3.31\n"
          ]
        }
      ],
      "source": [
        "!pip install yt-dlp"
      ]
    },
    {
      "cell_type": "markdown",
      "metadata": {
        "id": "fH5iCGqHrK4H"
      },
      "source": [
        "## 2. Downloading videos from different sources\n",
        "\n",
        "The resultant video file should be in your session storage if you run this from Google Cloab, or just in the same folder as this script if you run it elsewhere.\n",
        "\n",
        "The basic usage of the command is:\n",
        "\n",
        "```\n",
        "yt-dlp [OPTIONS] [--] URL [URL...]\n",
        "```\n",
        "\n",
        "You can explore options [here](https://pypi.org/project/yt-dlp/#video-selection)."
      ]
    },
    {
      "cell_type": "markdown",
      "metadata": {
        "id": "J5gZYUVdvkzx"
      },
      "source": [
        "### Basic Youtube Example\n"
      ]
    },
    {
      "cell_type": "code",
      "execution_count": null,
      "metadata": {
        "colab": {
          "base_uri": "https://localhost:8080/"
        },
        "id": "81idLBFqrHxX",
        "outputId": "fa10c7e2-2b73-4896-f09c-cc3d1ce30228"
      },
      "outputs": [
        {
          "output_type": "stream",
          "name": "stdout",
          "text": [
            "[youtube] Extracting URL: https://www.youtube.com/watch?v=FdpueKtaBEc&t=27505s\n",
            "[youtube] FdpueKtaBEc: Downloading webpage\n",
            "[youtube] FdpueKtaBEc: Downloading tv client config\n",
            "[youtube] FdpueKtaBEc: Downloading player 6450230e-main\n",
            "[youtube] FdpueKtaBEc: Downloading tv player API JSON\n",
            "[youtube] FdpueKtaBEc: Downloading ios player API JSON\n",
            "[youtube] FdpueKtaBEc: Downloading m3u8 information\n",
            "[info] FdpueKtaBEc: Downloading 1 format(s): 18\n",
            "[download] Destination: Aidan Andrews ｜ Special Relativity & Neural Nets from scratch ｜ Deep Work Study Stream [FdpueKtaBEc].mp4\n",
            "\u001b[K[download] 100% of  722.59MiB in \u001b[1;37m00:03:40\u001b[0m at \u001b[0;32m3.28MiB/s\u001b[0m\n"
          ]
        }
      ],
      "source": [
        "!yt-dlp -f mp4  \"https://www.youtube.com/watch?v=FdpueKtaBEc&t=27505s\"\n"
      ]
    },
    {
      "cell_type": "code",
      "source": [
        "from google.colab import drive\n",
        "drive.mount('/content/drive')"
      ],
      "metadata": {
        "id": "so0g2xWttEe-"
      },
      "execution_count": null,
      "outputs": []
    },
    {
      "cell_type": "markdown",
      "metadata": {
        "id": "eS854goQw4Tp"
      },
      "source": [
        "### Downloading from Vimeo, and also setting the format to MP4."
      ]
    },
    {
      "cell_type": "code",
      "execution_count": null,
      "metadata": {
        "id": "ZrDQ0M66vKGj"
      },
      "outputs": [],
      "source": [
        "!yt-dlp --format mp4 https://vimeo.com/794492622"
      ]
    },
    {
      "cell_type": "markdown",
      "metadata": {
        "id": "7LMEIsWYxDhM"
      },
      "source": [
        "## 3. Fetching Subtitles\n",
        "This example wil download a video from Youtube, and if there is a subtitle track available, it will download that also. Depending on the avilability, you may also be able to specify the language of the subtitle track. Also note that we use `--embed-subs` to embed the subtitles into the mp4.\n",
        "\n",
        "You can explore options [here](https://pypi.org/project/yt-dlp/#video-selection)."
      ]
    },
    {
      "cell_type": "code",
      "execution_count": null,
      "metadata": {
        "id": "vjk_zotDxGr6"
      },
      "outputs": [],
      "source": [
        "!yt-dlp --write-subs --embed-subs --format mp4  https://www.youtube.com/watch?v=020g-0hhCAU&ab_channel=Cocomelon-NurseryRhymes"
      ]
    },
    {
      "cell_type": "markdown",
      "metadata": {
        "id": "Yh-gpnArfMWd"
      },
      "source": [
        "If you used the example video above, you will can run the following cell to display the subtitles in the notebook. Otherwise, update the `subtitle_file_path` to match your subtitles file name (.vtt)."
      ]
    },
    {
      "cell_type": "code",
      "execution_count": null,
      "metadata": {
        "id": "PKe7j5SN2NiN"
      },
      "outputs": [],
      "source": [
        "\n",
        "subtitle_file_path = \"Baby Shark ｜ @CoComelon Nursery Rhymes & Kids Songs [020g-0hhCAU].en.vtt\"\n",
        "\n",
        "with open(subtitle_file_path, \"r\", encoding=\"utf-8\") as file:\n",
        "    subtitle_text = file.read()\n",
        "\n",
        "print(subtitle_text)\n"
      ]
    },
    {
      "cell_type": "markdown",
      "metadata": {
        "id": "f_cG9n3p30i_"
      },
      "source": [
        "## 4. Other helpful commands\n",
        "These are **advanced** materials using yt-dlp's Python library."
      ]
    },
    {
      "cell_type": "markdown",
      "metadata": {
        "id": "VYWQcHmG4znR"
      },
      "source": [
        "### Modifying Metadata"
      ]
    },
    {
      "cell_type": "code",
      "execution_count": null,
      "metadata": {
        "id": "8opNL5--38Ow"
      },
      "outputs": [],
      "source": [
        "# Interpret the title as \"Artist - Title\"\n",
        "!yt-dlp --parse-metadata \"%(series)s S%(season_number)02dE%(episode_number)02d:%(title)s\" https://www.youtube.com/watch?v=BaW_jenozKc"
      ]
    },
    {
      "cell_type": "markdown",
      "metadata": {
        "id": "z93JufsJ41ft"
      },
      "source": [
        "### Extract information to JSON with Python"
      ]
    },
    {
      "cell_type": "code",
      "execution_count": null,
      "metadata": {
        "id": "_xoCpiKa5CAb"
      },
      "outputs": [],
      "source": [
        "import json\n",
        "import yt_dlp\n",
        "\n",
        "URL = 'https://www.youtube.com/watch?v=BaW_jenozKc'\n",
        "\n",
        "# ℹ️ See help(yt_dlp.YoutubeDL) for a list of available options and public functions\n",
        "ydl_opts = {}\n",
        "with yt_dlp.YoutubeDL(ydl_opts) as ydl:\n",
        "    info = ydl.extract_info(URL, download=False)\n",
        "\n",
        "    # ℹ️ ydl.sanitize_info makes the info json-serializable\n",
        "    print(json.dumps(ydl.sanitize_info(info)))"
      ]
    },
    {
      "cell_type": "markdown",
      "metadata": {
        "id": "OaQ4y1zI5zEz"
      },
      "source": [
        "### Extract audio with Python"
      ]
    },
    {
      "cell_type": "code",
      "execution_count": null,
      "metadata": {
        "id": "CIu4mUwx50yz"
      },
      "outputs": [],
      "source": [
        "import yt_dlp\n",
        "\n",
        "URLS = ['https://www.youtube.com/watch?v=BaW_jenozKc']\n",
        "\n",
        "ydl_opts = {\n",
        "    'format': 'm4a/bestaudio/best',\n",
        "    # ℹ️ See help(yt_dlp.postprocessor) for a list of available Postprocessors and their arguments\n",
        "    'postprocessors': [{  # Extract audio using ffmpeg\n",
        "        'key': 'FFmpegExtractAudio',\n",
        "        'preferredcodec': 'm4a',\n",
        "    }]\n",
        "}\n",
        "\n",
        "with yt_dlp.YoutubeDL(ydl_opts) as ydl:\n",
        "    error_code = ydl.download(URLS)"
      ]
    },
    {
      "cell_type": "markdown",
      "metadata": {
        "id": "pw_giTMZ6Us1"
      },
      "source": [
        "### Filter video with Python"
      ]
    },
    {
      "cell_type": "code",
      "execution_count": null,
      "metadata": {
        "id": "2fd9_QqH6UHq"
      },
      "outputs": [],
      "source": [
        "import yt_dlp\n",
        "\n",
        "URLS = ['https://www.youtube.com/watch?v=BaW_jenozKc']\n",
        "\n",
        "def longer_than_a_minute(info, *, incomplete):\n",
        "    \"\"\"Download only videos longer than a minute (or with unknown duration)\"\"\"\n",
        "    duration = info.get('duration')\n",
        "    if duration and duration < 60:\n",
        "        return 'The video is too short'\n",
        "\n",
        "ydl_opts = {\n",
        "    'match_filter': longer_than_a_minute,\n",
        "}\n",
        "\n",
        "with yt_dlp.YoutubeDL(ydl_opts) as ydl:\n",
        "    error_code = ydl.download(URLS)"
      ]
    },
    {
      "cell_type": "markdown",
      "metadata": {
        "id": "fo_YY_lH6Z06"
      },
      "source": [
        "### Adding logger and progress hook"
      ]
    },
    {
      "cell_type": "code",
      "execution_count": null,
      "metadata": {
        "id": "r0xbAaNs6an7"
      },
      "outputs": [],
      "source": [
        "import yt_dlp\n",
        "\n",
        "URLS = ['https://www.youtube.com/watch?v=BaW_jenozKc']\n",
        "\n",
        "class MyLogger:\n",
        "    def debug(self, msg):\n",
        "        # For compatibility with youtube-dl, both debug and info are passed into debug\n",
        "        # You can distinguish them by the prefix '[debug] '\n",
        "        if msg.startswith('[debug] '):\n",
        "            pass\n",
        "        else:\n",
        "            self.info(msg)\n",
        "\n",
        "    def info(self, msg):\n",
        "        pass\n",
        "\n",
        "    def warning(self, msg):\n",
        "        pass\n",
        "\n",
        "    def error(self, msg):\n",
        "        print(msg)\n",
        "\n",
        "\n",
        "# ℹ️ See \"progress_hooks\" in help(yt_dlp.YoutubeDL)\n",
        "def my_hook(d):\n",
        "    if d['status'] == 'finished':\n",
        "        print('Done downloading, now post-processing ...')\n",
        "\n",
        "\n",
        "ydl_opts = {\n",
        "    'logger': MyLogger(),\n",
        "    'progress_hooks': [my_hook],\n",
        "}\n",
        "\n",
        "with yt_dlp.YoutubeDL(ydl_opts) as ydl:\n",
        "    ydl.download(URLS)"
      ]
    },
    {
      "cell_type": "markdown",
      "metadata": {
        "id": "kf8Mse_t6kmA"
      },
      "source": [
        "### Add a custom PostProcessor"
      ]
    },
    {
      "cell_type": "code",
      "execution_count": null,
      "metadata": {
        "id": "7zWvfOTv6mA-"
      },
      "outputs": [],
      "source": [
        "import yt_dlp\n",
        "\n",
        "URLS = ['https://www.youtube.com/watch?v=BaW_jenozKc']\n",
        "\n",
        "# ℹ️ See help(yt_dlp.postprocessor.PostProcessor)\n",
        "class MyCustomPP(yt_dlp.postprocessor.PostProcessor):\n",
        "    def run(self, info):\n",
        "        self.to_screen('Doing stuff')\n",
        "        return [], info\n",
        "\n",
        "\n",
        "with yt_dlp.YoutubeDL() as ydl:\n",
        "    # ℹ️ \"when\" can take any value in yt_dlp.utils.POSTPROCESS_WHEN\n",
        "    ydl.add_post_processor(MyCustomPP(), when='pre_process')\n",
        "    ydl.download(URLS)"
      ]
    }
  ],
  "metadata": {
    "colab": {
      "provenance": [],
      "include_colab_link": true
    },
    "kernelspec": {
      "display_name": "Python 3",
      "name": "python3"
    },
    "language_info": {
      "codemirror_mode": {
        "name": "ipython",
        "version": 3
      },
      "file_extension": ".py",
      "mimetype": "text/x-python",
      "name": "python",
      "nbconvert_exporter": "python",
      "pygments_lexer": "ipython3",
      "version": "3.11.2"
    }
  },
  "nbformat": 4,
  "nbformat_minor": 0
}